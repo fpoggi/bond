{
  "nbformat": 4,
  "nbformat_minor": 0,
  "metadata": {
    "colab": {
      "name": "6_classification.ipynb",
      "provenance": []
    },
    "kernelspec": {
      "name": "python3",
      "display_name": "Python 3"
    }
  },
  "cells": [
    {
      "cell_type": "code",
      "metadata": {
        "id": "hK5xduFtuKmA"
      },
      "source": [
        "import time\n",
        "\n",
        "import pandas as pd   \n",
        "import numpy as np\n",
        "import matplotlib.pyplot as plt\n",
        "import seaborn as sns\n",
        "\n",
        "from sklearn import svm, tree\n",
        "from sklearn.model_selection import cross_validate\n",
        "from sklearn.metrics import make_scorer, f1_score"
      ],
      "execution_count": 1,
      "outputs": []
    },
    {
      "cell_type": "code",
      "metadata": {
        "id": "RXNbwYaD3SHp"
      },
      "source": [
        "coverages = [\"A\", \"B\", \"AB\"]\n",
        "sections = [1, 2]\n",
        "fields = [\"10-G1\", \"13-D4\"]"
      ],
      "execution_count": 2,
      "outputs": []
    },
    {
      "cell_type": "code",
      "metadata": {
        "id": "2qEaitsQ1EuD"
      },
      "source": [
        "df = pd.read_csv(\"/content/drive/MyDrive/DOPO/Assegno di ricerca/6_ML/results.csv\")"
      ],
      "execution_count": 3,
      "outputs": []
    },
    {
      "cell_type": "code",
      "metadata": {
        "id": "CN6vClsHOSde"
      },
      "source": [
        "def select_df(cov, coverage, sect, section, fiel, field):\n",
        "  if coverage in cov and section == sect and field == fiel:\n",
        "    return True\n",
        "  else:\n",
        "    return False"
      ],
      "execution_count": null,
      "outputs": []
    },
    {
      "cell_type": "code",
      "metadata": {
        "id": "sVAjajumxqNa"
      },
      "source": [
        "def run_classifier(classifier, d, target):\n",
        "\n",
        "  scoring = {'f1' : make_scorer(f1_score, average='macro')}\n",
        "  scores = cross_validate(classifier, X, y, scoring=scoring)\n",
        "\n",
        "  return scores[\"test_f1\"]"
      ],
      "execution_count": null,
      "outputs": []
    },
    {
      "cell_type": "code",
      "metadata": {
        "id": "N8_iwVP40U5C"
      },
      "source": [
        "def run_ML(clsf, data, type_val):\n",
        "\n",
        "  r = dict()\n",
        "\n",
        "  features= ['cand', 'co-au',\n",
        "             'cand_comm', 'comm_cand',\n",
        "             'BC', 'CC',\n",
        "             'cand_other', 'other_cand',\n",
        "             'I1', 'I2', 'I3']\n",
        "  \n",
        "  r[\"no type\"] = run_classifier(clsf, data[features], d['esito'])\n",
        "\n",
        "  features.append('books')\n",
        "  r[\"+books\"] = run_classifier(clsf, data[features], d['esito'])\n",
        "  features.pop()\n",
        "\n",
        "  features.append('articles')\n",
        "  r[\"+articles\"] = run_classifier(clsf, data[features], d['esito'])\n",
        "  features.pop()\n",
        "\n",
        "  features.append('other_pubbs')\n",
        "  r[\"+other_pubbs\"] = run_classifier(clsf, data[features], d['esito'])\n",
        "\n",
        "  features.append('books')\n",
        "  r[\"+other_pubbs+books\"] = run_classifier(clsf, data[features], d['esito'])\n",
        "  features.pop()\n",
        "\n",
        "  features.append('articles')\n",
        "  r[\"+other_pubbs+articles\"] = run_classifier(clsf, data[features], d['esito'])\n",
        "  features.pop(-2)\n",
        "\n",
        "  features.append('books')\n",
        "  r[\"+articles+books\"]  = run_classifier(clsf, data[features], d['esito'])\n",
        "\n",
        "  features.append('other_pubbs')\n",
        "  r[\"with type\"] = run_classifier(clsf, data[features], d['esito'])\n",
        "\n",
        "  return r"
      ],
      "execution_count": null,
      "outputs": []
    },
    {
      "cell_type": "code",
      "metadata": {
        "id": "xi0SwSsgBZaW"
      },
      "source": [
        "def results_dict(clf_type, dataframe, cov_list, sect_list, field_list)\n",
        "\n",
        "  ML = dict()\n",
        "\n",
        "  #inizializzazione classifier\n",
        "  if clf_type == \"SVM\":\n",
        "    clf = svm.SVC(kernel='linear', C=1, random_state=0)\n",
        "  elif clf_type == \"Tree\"\n",
        "    clf = tree.DecisionTreeClassifier()\n",
        "  \n",
        "  #selezione porzione di dati\n",
        "    for cov in cov_list:\n",
        "      ML[cov] = dict()\n",
        "      for sect in sect_list:\n",
        "        ML[cov][sect] = dict()\n",
        "        for fiel in field_list:\n",
        "          ML[cov][sect][fiel] = dict()\n",
        "          data = dataframe.loc[dataframe.apply(lambda x: select_df(cov, x[\"coverage\"], sect, x[\"section\"], field, x[\"field\"]), axis=1)]\n",
        "\n",
        "          #porzione solo ANVUR\n",
        "          ML[cov][sect][fiel][\"ANVUR\"] = run_classifier(clf, data[['I1', 'I2', 'I3']], data['esito'])\n",
        "\n",
        "          #porzione nostri indicatori\n",
        "          ML[cov][sect][fiel].extend(run_ML(clf, data))"
      ],
      "execution_count": null,
      "outputs": []
    },
    {
      "cell_type": "code",
      "metadata": {
        "id": "YjWsJ-br-Bc5"
      },
      "source": [
        "SVM_results = results_dict(\"SVM\", df, coverages, sections, fields)"
      ],
      "execution_count": null,
      "outputs": []
    },
    {
      "cell_type": "code",
      "metadata": {
        "id": "4vsBldNQ98tL"
      },
      "source": [
        "Tree_results = results_dict(\"Tree\", df, coverages, sections, fields)"
      ],
      "execution_count": null,
      "outputs": []
    }
  ]
}