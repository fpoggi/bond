{
  "nbformat": 4,
  "nbformat_minor": 0,
  "metadata": {
    "colab": {
      "name": "6_classification.ipynb",
      "provenance": []
    },
    "kernelspec": {
      "name": "python3",
      "display_name": "Python 3"
    }
  },
  "cells": [
    {
      "cell_type": "code",
      "metadata": {
        "id": "hK5xduFtuKmA"
      },
      "source": [
        "import pandas as pd   \n",
        "import numpy as np\n",
        "import matplotlib.pyplot as plt\n",
        "import seaborn as sns\n",
        "import time\n",
        "from sklearn import tree"
      ],
      "execution_count": 3,
      "outputs": []
    },
    {
      "cell_type": "code",
      "metadata": {
        "id": "RXNbwYaD3SHp"
      },
      "source": [
        "coverage = [\"A\", \"B\", \"AB\"]\n",
        "sections = [1, 2]\n",
        "fields = [\"10-G1\", \"13-D4\"]"
      ],
      "execution_count": 4,
      "outputs": []
    },
    {
      "cell_type": "code",
      "metadata": {
        "id": "CN6vClsHOSde"
      },
      "source": [
        "def select_df(cov, coverage, sect, section, fiel, field):\n",
        "  if coverage in cov and section == sect and field == fiel:\n",
        "    return True\n",
        "  else:\n",
        "    return False"
      ],
      "execution_count": 38,
      "outputs": []
    },
    {
      "cell_type": "code",
      "metadata": {
        "id": "2qEaitsQ1EuD"
      },
      "source": [
        "df = pd.read_csv(\"/content/drive/MyDrive/DOPO/Assegno di ricerca/6_ML/results.csv\")"
      ],
      "execution_count": null,
      "outputs": []
    },
    {
      "cell_type": "code",
      "metadata": {
        "id": "9QAGNKOJGqwQ"
      },
      "source": [
        "df.columns.to_list()"
      ],
      "execution_count": null,
      "outputs": []
    },
    {
      "cell_type": "code",
      "metadata": {
        "id": "xi0SwSsgBZaW"
      },
      "source": [
        "for cov in coverage:\n",
        "  for sect in sections:\n",
        "    for fiel in fields:\n",
        "      df.loc[df.apply(lambda x: select_df(cov, x[\"coverage\"], sect, x[\"section\"], field, x[\"field\"]), axis=1)]\n",
        "      \n",
        "## no id\n",
        "### ind ANVUR\n",
        "####  "
      ],
      "execution_count": null,
      "outputs": []
    },
    {
      "cell_type": "code",
      "metadata": {
        "id": "sVAjajumxqNa"
      },
      "source": [
        "def classifier_SVM():\n"
      ],
      "execution_count": null,
      "outputs": []
    },
    {
      "cell_type": "code",
      "metadata": {
        "id": "r_EouxWyQhBn"
      },
      "source": [
        "def classifier_tree():\n",
        "\n",
        "X = [[0, 0], [1, 1]]\n",
        "Y = [0, 1]\n",
        "clf = tree.DecisionTreeClassifier()\n",
        "clf = clf.fit(X, Y)"
      ],
      "execution_count": null,
      "outputs": []
    }
  ]
}
